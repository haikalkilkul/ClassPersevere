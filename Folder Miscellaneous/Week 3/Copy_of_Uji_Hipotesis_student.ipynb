{
  "cells": [
    {
      "cell_type": "markdown",
      "metadata": {
        "id": "HCqCywDMy1TF"
      },
      "source": [
        "Sebelum lanjut, untuk pengguna google colab harap lakukan save a copy in drive dulu ya. Di latihan ini kita akan bahas contoh kasus :     \n",
        "\n",
        "1. Uji beda 2 kelompok berhubungan\n",
        "2. Uji beda 2 kelompok independent\n",
        "3. Uji beda lebih dari 2 kelompok\n",
        "\n",
        "keduanya akan dilakukan secara parametrik dan nonparametrik\n",
        "\n",
        "\n"
      ]
    },
    {
      "cell_type": "code",
      "execution_count": 2,
      "metadata": {
        "id": "28eWamUA03hf"
      },
      "outputs": [],
      "source": [
        "#Import all library needed\n",
        "\n",
        "import matplotlib.pyplot as plt\n",
        "import pandas as pd\n",
        "import seaborn as sns\n",
        "import numpy as np\n",
        "from scipy import stats"
      ]
    },
    {
      "cell_type": "markdown",
      "metadata": {
        "id": "mDCme7rLzBfA"
      },
      "source": [
        "# Uji beda 2 kelompok berhubungan\n",
        "\n",
        "Diketahui nilai mahasiswa saat belajar offline dan online sebagai berikut (dalam skala 10)\n",
        "\n",
        "offline = [10, 9, 7, 8, 7, 8, 9, 9, 8, 7, 7, 7, 8, 8, 9, 8, 8, 8, 8, 8, 9]\n",
        "\n",
        "online = [8, 8, 7, 7, 6, 7, 7, 7, 7, 6, 6, 6, 6, 7, 8, 7, 8, 7, 8, 7, 8]"
      ]
    },
    {
      "cell_type": "code",
      "execution_count": 3,
      "metadata": {
        "id": "UeVSiRwUyxDN"
      },
      "outputs": [],
      "source": [
        "#Data\n",
        "offline = np.array([10, 9, 7, 8, 7, 8, 9, 9, 8, 7, 7, 7, 8, 8, 9, 8, 8, 8, 8, 8, 9])\n",
        "online = np.array([8, 8, 7, 7, 6, 7, 7, 7, 7, 6, 6, 6, 6, 7, 8, 7, 8, 7, 8, 7, 8])"
      ]
    },
    {
      "cell_type": "markdown",
      "metadata": {
        "id": "IR34knja1Gw-"
      },
      "source": [
        "## Uji Normalitas\n",
        "Ho = data berdistribusi normal\n",
        "\n",
        "Ha = data tidak berdistribusi normal"
      ]
    },
    {
      "cell_type": "code",
      "execution_count": 4,
      "metadata": {
        "colab": {
          "base_uri": "https://localhost:8080/",
          "height": 337
        },
        "id": "PgbdEI1DBEic",
        "outputId": "48cae916-f2a6-4485-b053-26eadf34b444"
      },
      "outputs": [
        {
          "name": "stderr",
          "output_type": "stream",
          "text": [
            "C:\\Users\\kilkul\\AppData\\Local\\Programs\\Python\\Python310\\lib\\site-packages\\seaborn\\distributions.py:2619: FutureWarning: `distplot` is a deprecated function and will be removed in a future version. Please adapt your code to use either `displot` (a figure-level function with similar flexibility) or `histplot` (an axes-level function for histograms).\n",
            "  warnings.warn(msg, FutureWarning)\n"
          ]
        },
        {
          "data": {
            "text/plain": [
              "<AxesSubplot:ylabel='Density'>"
            ]
          },
          "execution_count": 4,
          "metadata": {},
          "output_type": "execute_result"
        },
        {
          "data": {
            "image/png": "[encoded data removed]",
            "text/plain": [
              "<Figure size 432x288 with 1 Axes>"
            ]
          },
          "metadata": {
            "needs_background": "light"
          },
          "output_type": "display_data"
        }
      ],
      "source": [
        "#Dengan histogram\n",
        "sns.distplot(offline)"
      ]
    },
    {
      "cell_type": "code",
      "execution_count": null,
      "metadata": {
        "colab": {
          "base_uri": "https://localhost:8080/",
          "height": 337
        },
        "id": "p_z6yzJlBR1i",
        "outputId": "ca5a8384-7b93-47d8-f6b9-6fffe5589828"
      },
      "outputs": [
        {
          "name": "stderr",
          "output_type": "stream",
          "text": [
            "/usr/local/lib/python3.7/dist-packages/seaborn/distributions.py:2619: FutureWarning: `distplot` is a deprecated function and will be removed in a future version. Please adapt your code to use either `displot` (a figure-level function with similar flexibility) or `histplot` (an axes-level function for histograms).\n",
            "  warnings.warn(msg, FutureWarning)\n"
          ]
        },
        {
          "data": {
            "text/plain": [
              "<matplotlib.axes._subplots.AxesSubplot at 0x7fa29a448550>"
            ]
          },
          "execution_count": 21,
          "metadata": {},
          "output_type": "execute_result"
        },
        {
          "data": {
            "image/png": "[encoded data removed]",
            "text/plain": [
              "<Figure size 432x288 with 1 Axes>"
            ]
          },
          "metadata": {
            "needs_background": "light"
          },
          "output_type": "display_data"
        }
      ],
      "source": [
        "#Dengan histogram\n",
        "sns.distplot(online)"
      ]
    },
    {
      "cell_type": "markdown",
      "metadata": {
        "id": "A_Iv_GykB6eT"
      },
      "source": [
        "Berdasarkan histogram, data berbentuk seperti lonceng dengan rata-rata pas di tengah, sehingga bisa kita simpulkan data berdistribusi normal berdasarkan histogram, mari coba dengan uji kolmogorov smirnov"
      ]
    },
    {
      "cell_type": "code",
      "execution_count": null,
      "metadata": {
        "colab": {
          "base_uri": "https://localhost:8080/"
        },
        "id": "C27n7gwt1LPC",
        "outputId": "7fcc140b-6dce-4e4b-b9a5-02cdc0b28c55"
      },
      "outputs": [
        {
          "name": "stdout",
          "output_type": "stream",
          "text": [
            "uji kolmogorov smirnov data offline =  KstestResult(statistic=0.26103162250727835, pvalue=0.09451762212928216)\n",
            "uji kolmogorov smirnov data online =  KstestResult(statistic=0.2405721397434657, pvalue=0.14871291095568448)\n"
          ]
        }
      ],
      "source": [
        "#Uji Kolmogorov-Smirnov\n",
        "z_score_offline = stats.zscore(offline)\n",
        "z_score_online = stats.zscore(online)\n",
        "print('uji kolmogorov smirnov data offline = ', stats.kstest(z_score_offline, \"norm\"))\n",
        "print('uji kolmogorov smirnov data online = ', stats.kstest(z_score_online, \"norm\"))"
      ]
    },
    {
      "cell_type": "markdown",
      "metadata": {
        "id": "DOqWrjGD26nd"
      },
      "source": [
        "Karena kedua nilai p-value > 0.05, maka Ho diterima, data berdistribusi normal"
      ]
    },
    {
      "cell_type": "markdown",
      "metadata": {
        "id": "sx48qnJK3Rbv"
      },
      "source": [
        "## Paired Sample T-Test (Parametrik)"
      ]
    },
    {
      "cell_type": "markdown",
      "metadata": {
        "id": "nYXo8Ejw3vst"
      },
      "source": [
        "Ho = Tidak ada perbedaan yang signifikan (keduanya sama)\n",
        "\n",
        "Ha = ada perbedaan yang signifikan (artinya metode pembelajaran offline/online mempengaruhi nilai siswa)"
      ]
    },
    {
      "cell_type": "code",
      "execution_count": null,
      "metadata": {
        "colab": {
          "base_uri": "https://localhost:8080/"
        },
        "id": "Dwx1qelT2Cea",
        "outputId": "6b954823-c8c7-42de-a79c-391769860be2"
      },
      "outputs": [
        {
          "name": "stdout",
          "output_type": "stream",
          "text": [
            "hasil uji t:  Ttest_relResult(statistic=7.175608803587865, pvalue=5.99463858437324e-07)\n"
          ]
        }
      ],
      "source": [
        "t_value = stats.ttest_rel(offline, online)\n",
        "print('hasil uji t: ', t_value)"
      ]
    },
    {
      "cell_type": "markdown",
      "metadata": {
        "id": "u9hbIb6z3mPE"
      },
      "source": [
        "karena p-value = 5.9 x 10^(-7) < 0.05, maka Ho ditolak, terdapat perbedaan yang signifikan dari nilai mahasiswa, metode pembelajaran offline/online berpengaruh signifikan terhadap nilai siswa"
      ]
    },
    {
      "cell_type": "markdown",
      "metadata": {
        "id": "cA1pIyI3rk5x"
      },
      "source": [
        "## Uji Wilcoxon (nonparametrik)\n",
        "\n",
        "Misalkan datanya tidak berdistribusi normal, uji beda 2 kelompok berhubungan dapat dilakukan dengan uji wilcoxon. Caranya"
      ]
    },
    {
      "cell_type": "code",
      "execution_count": null,
      "metadata": {
        "colab": {
          "base_uri": "https://localhost:8080/"
        },
        "id": "SYlqqcv8rkZ4",
        "outputId": "e145312e-2528-4340-ed88-d37a185f0030"
      },
      "outputs": [
        {
          "data": {
            "text/plain": [
              "WilcoxonResult(statistic=0.0, pvalue=7.897245521335617e-05)"
            ]
          },
          "execution_count": 78,
          "metadata": {},
          "output_type": "execute_result"
        }
      ],
      "source": [
        "d = offline - online\n",
        "stats.wilcoxon(d)"
      ]
    },
    {
      "cell_type": "markdown",
      "metadata": {
        "id": "AFlex04usPOC"
      },
      "source": [
        "karena p-value = 7.897 x 10^(-5) < 0.05, maka Ho ditolak, terdapat perbedaan yang signifikan dari nilai mahasiswa, metode pembelajaran offline/online berpengaruh signifikan terhadap nilai siswa"
      ]
    },
    {
      "cell_type": "markdown",
      "metadata": {
        "id": "RpSRjEeB4pgf"
      },
      "source": [
        "# Uji Beda 2 kelompok independent\n",
        "\n",
        "Misalkan seorang CEO kafe ingin mengetahui apakah ada perbedaan yang signifikan antara jumlah pengunjung kafe di wilayah A dan B selama 2 minggu terakhir\n",
        "\n",
        "A = [27, 29, 27, 32, 34, 38, 39, 27, 30, 32, 34, 36, 38, 40]\n",
        "\n",
        "B = [29, 30, 29, 27, 30, 40, 39, 28, 30, 26, 27, 28, 39, 39]"
      ]
    },
    {
      "cell_type": "code",
      "execution_count": null,
      "metadata": {
        "id": "qvrjYCi2CSiE"
      },
      "outputs": [],
      "source": [
        "A = np.array([27, 29, 27, 32, 34, 38, 39, 27, 30, 32, 34, 36, 38, 40])\n",
        "B = np.array([28, 30, 29, 35, 34, 37, 39, 28, 30, 32, 33, 35, 39, 39])"
      ]
    },
    {
      "cell_type": "markdown",
      "metadata": {
        "id": "kwO4jXsMEW6l"
      },
      "source": [
        "## Latihan 1\n",
        "Coba lihat lagi cara uji normalitas di atas, coba lakukan pada data A dan B"
      ]
    },
    {
      "cell_type": "markdown",
      "metadata": {
        "id": "zzKz0ETAA74J"
      },
      "source": [
        "## Uji Normalitas\n",
        "Ho = data berdistribusi normal\n",
        "\n",
        "Ha = data tidak berdistribusi normal"
      ]
    },
    {
      "cell_type": "code",
      "execution_count": null,
      "metadata": {
        "id": "lpCnk3_XCMld"
      },
      "outputs": [],
      "source": [
        "#Cek Normalitas A Dengan histogram\n",
        "#Type your code here"
      ]
    },
    {
      "cell_type": "code",
      "execution_count": null,
      "metadata": {
        "id": "qgXpG1rw3kPy"
      },
      "outputs": [],
      "source": [
        "#Cek Normalitas B Dengan histogram\n",
        "#Type your code here"
      ]
    },
    {
      "cell_type": "code",
      "execution_count": null,
      "metadata": {
        "id": "DtSYWoPbEO-L"
      },
      "outputs": [],
      "source": [
        "#Uji Kolmogorov-Smirnov\n",
        "#Type your code here"
      ]
    },
    {
      "cell_type": "markdown",
      "metadata": {
        "id": "A5we2KvpA7pX"
      },
      "source": [
        "Apakah keduanya berdistribusi normal? bagaimana kamu mengetahuinya?"
      ]
    },
    {
      "cell_type": "markdown",
      "metadata": {
        "id": "bOOsod3VE4Na"
      },
      "source": [
        "## Independent Sample T-Test (Parametrik)\n",
        "Ho = Tidak ada perbedaan yang signifikan (keduanya sama)\n",
        "\n",
        "Ha = ada perbedaan yang signifikan (artinya lokasi kafe berpengaruh signifikan terhadap jumlah pengunjung)"
      ]
    },
    {
      "cell_type": "code",
      "execution_count": null,
      "metadata": {
        "colab": {
          "base_uri": "https://localhost:8080/"
        },
        "id": "-3e4aA7qI_1W",
        "outputId": "83b93735-732f-4947-ab6a-ae286e841044"
      },
      "outputs": [
        {
          "name": "stdout",
          "output_type": "stream",
          "text": [
            "hasil uji t:  Ttest_indResult(statistic=-0.21626215417063352, pvalue=0.8304712072353047)\n"
          ]
        }
      ],
      "source": [
        "t_value = stats.ttest_ind(A, B)\n",
        "print('hasil uji t: ', t_value)"
      ]
    },
    {
      "cell_type": "markdown",
      "metadata": {
        "id": "1ArraBntuw24"
      },
      "source": [
        "Nilai p-value = 0.83 > 0.05, artinya Ho diterima, tidak terdapat perbedaan yang signifikan antara jumlah pengunjung kafe wilayah A dan B, berarti lokasi kafe tidak berpengaruh signifikan terhadap jumlah pengunjung"
      ]
    },
    {
      "cell_type": "markdown",
      "metadata": {
        "id": "OfRcnxcxsqRR"
      },
      "source": [
        "## Uji Mann-Whitney\n",
        "Misalkan datanya tidak berdistribusi normal, uji beda 2 kelompok independent dapat dilakukan dengan uji Mann-whitney. Caranya"
      ]
    },
    {
      "cell_type": "code",
      "execution_count": null,
      "metadata": {
        "colab": {
          "base_uri": "https://localhost:8080/"
        },
        "id": "FjuxsjDaspqZ",
        "outputId": "4b18118a-fd69-4e31-ed3b-88c31c9b17a7"
      },
      "outputs": [
        {
          "data": {
            "text/plain": [
              "MannwhitneyuResult(statistic=91.0, pvalue=0.38212917802691737)"
            ]
          },
          "execution_count": 80,
          "metadata": {},
          "output_type": "execute_result"
        }
      ],
      "source": [
        "stats.mannwhitneyu(A, B)"
      ]
    },
    {
      "cell_type": "markdown",
      "metadata": {
        "id": "i4fiWQaruswm"
      },
      "source": [
        "## Latihan 2\n",
        "Tulis kesimpulanmu disini apakah Ho diterima atau ditolak dan apa artinya"
      ]
    },
    {
      "cell_type": "markdown",
      "metadata": {
        "id": "ih4kHW-sX4zZ"
      },
      "source": [
        "# Uji Beda lebih dari 2 kelompok\n",
        "\n",
        "Dalam statistik parametrik, nama metodenya adalah ANOVA. ANOVA memiliki 2 asumsi :    \n",
        "1. Data Berdistribusi Normal\n",
        "2. Varians data homongen\n",
        "\n",
        "**Kasus**\n",
        "\n",
        "Misalkan saat ini kamu adalah menteri pendidikan yang ingin mengetahui apakah kualitas pendidikan di negara ini sudah merata atau belum. Daerah dibagi menjadi kota besar di wilayah berat, kota kecil di barat, ibukota, kota besar di wilayah timur, dan kota kecil di timur. Analisa ini dilakukan berdasarkan nilai ujian akhir SMA"
      ]
    },
    {
      "cell_type": "code",
      "execution_count": null,
      "metadata": {
        "colab": {
          "base_uri": "https://localhost:8080/",
          "height": 1000
        },
        "id": "pbpSB4THJUD-",
        "outputId": "776a9256-93b7-4cf8-df08-b3d55c30f300"
      },
      "outputs": [
        {
          "data": {
            "text/html": [
              "\n",
              "  <div id=\"df-6f4b0cb1-0b92-42ae-8f6f-6af6129c8677\">\n",
              "    <div class=\"colab-df-container\">\n",
              "      <div>\n",
              "<style scoped>\n",
              "    .dataframe tbody tr th:only-of-type {\n",
              "        vertical-align: middle;\n",
              "    }\n",
              "\n",
              "    .dataframe tbody tr th {\n",
              "        vertical-align: top;\n",
              "    }\n",
              "\n",
              "    .dataframe thead th {\n",
              "        text-align: right;\n",
              "    }\n",
              "</style>\n",
              "<table border=\"1\" class=\"dataframe\">\n",
              "  <thead>\n",
              "    <tr style=\"text-align: right;\">\n",
              "      <th></th>\n",
              "      <th>big_west</th>\n",
              "      <th>small_west</th>\n",
              "      <th>capital_city</th>\n",
              "      <th>big_east</th>\n",
              "      <th>small_east</th>\n",
              "    </tr>\n",
              "  </thead>\n",
              "  <tbody>\n",
              "    <tr>\n",
              "      <th>0</th>\n",
              "      <td>87</td>\n",
              "      <td>77</td>\n",
              "      <td>86</td>\n",
              "      <td>71</td>\n",
              "      <td>70</td>\n",
              "    </tr>\n",
              "    <tr>\n",
              "      <th>1</th>\n",
              "      <td>75</td>\n",
              "      <td>83</td>\n",
              "      <td>90</td>\n",
              "      <td>82</td>\n",
              "      <td>76</td>\n",
              "    </tr>\n",
              "    <tr>\n",
              "      <th>2</th>\n",
              "      <td>80</td>\n",
              "      <td>73</td>\n",
              "      <td>87</td>\n",
              "      <td>85</td>\n",
              "      <td>81</td>\n",
              "    </tr>\n",
              "    <tr>\n",
              "      <th>3</th>\n",
              "      <td>75</td>\n",
              "      <td>82</td>\n",
              "      <td>85</td>\n",
              "      <td>89</td>\n",
              "      <td>85</td>\n",
              "    </tr>\n",
              "    <tr>\n",
              "      <th>4</th>\n",
              "      <td>91</td>\n",
              "      <td>71</td>\n",
              "      <td>85</td>\n",
              "      <td>72</td>\n",
              "      <td>75</td>\n",
              "    </tr>\n",
              "    <tr>\n",
              "      <th>5</th>\n",
              "      <td>89</td>\n",
              "      <td>87</td>\n",
              "      <td>96</td>\n",
              "      <td>79</td>\n",
              "      <td>75</td>\n",
              "    </tr>\n",
              "    <tr>\n",
              "      <th>6</th>\n",
              "      <td>91</td>\n",
              "      <td>77</td>\n",
              "      <td>95</td>\n",
              "      <td>79</td>\n",
              "      <td>75</td>\n",
              "    </tr>\n",
              "    <tr>\n",
              "      <th>7</th>\n",
              "      <td>87</td>\n",
              "      <td>84</td>\n",
              "      <td>89</td>\n",
              "      <td>85</td>\n",
              "      <td>72</td>\n",
              "    </tr>\n",
              "    <tr>\n",
              "      <th>8</th>\n",
              "      <td>90</td>\n",
              "      <td>86</td>\n",
              "      <td>93</td>\n",
              "      <td>84</td>\n",
              "      <td>72</td>\n",
              "    </tr>\n",
              "    <tr>\n",
              "      <th>9</th>\n",
              "      <td>94</td>\n",
              "      <td>93</td>\n",
              "      <td>91</td>\n",
              "      <td>86</td>\n",
              "      <td>75</td>\n",
              "    </tr>\n",
              "    <tr>\n",
              "      <th>10</th>\n",
              "      <td>82</td>\n",
              "      <td>83</td>\n",
              "      <td>96</td>\n",
              "      <td>85</td>\n",
              "      <td>90</td>\n",
              "    </tr>\n",
              "    <tr>\n",
              "      <th>11</th>\n",
              "      <td>91</td>\n",
              "      <td>94</td>\n",
              "      <td>94</td>\n",
              "      <td>76</td>\n",
              "      <td>83</td>\n",
              "    </tr>\n",
              "    <tr>\n",
              "      <th>12</th>\n",
              "      <td>83</td>\n",
              "      <td>79</td>\n",
              "      <td>91</td>\n",
              "      <td>71</td>\n",
              "      <td>80</td>\n",
              "    </tr>\n",
              "    <tr>\n",
              "      <th>13</th>\n",
              "      <td>86</td>\n",
              "      <td>92</td>\n",
              "      <td>85</td>\n",
              "      <td>82</td>\n",
              "      <td>85</td>\n",
              "    </tr>\n",
              "    <tr>\n",
              "      <th>14</th>\n",
              "      <td>84</td>\n",
              "      <td>72</td>\n",
              "      <td>77</td>\n",
              "      <td>72</td>\n",
              "      <td>80</td>\n",
              "    </tr>\n",
              "    <tr>\n",
              "      <th>15</th>\n",
              "      <td>82</td>\n",
              "      <td>86</td>\n",
              "      <td>96</td>\n",
              "      <td>78</td>\n",
              "      <td>80</td>\n",
              "    </tr>\n",
              "    <tr>\n",
              "      <th>16</th>\n",
              "      <td>88</td>\n",
              "      <td>76</td>\n",
              "      <td>84</td>\n",
              "      <td>78</td>\n",
              "      <td>78</td>\n",
              "    </tr>\n",
              "    <tr>\n",
              "      <th>17</th>\n",
              "      <td>89</td>\n",
              "      <td>84</td>\n",
              "      <td>87</td>\n",
              "      <td>76</td>\n",
              "      <td>86</td>\n",
              "    </tr>\n",
              "    <tr>\n",
              "      <th>18</th>\n",
              "      <td>94</td>\n",
              "      <td>85</td>\n",
              "      <td>91</td>\n",
              "      <td>74</td>\n",
              "      <td>83</td>\n",
              "    </tr>\n",
              "    <tr>\n",
              "      <th>19</th>\n",
              "      <td>87</td>\n",
              "      <td>93</td>\n",
              "      <td>83</td>\n",
              "      <td>77</td>\n",
              "      <td>77</td>\n",
              "    </tr>\n",
              "    <tr>\n",
              "      <th>20</th>\n",
              "      <td>89</td>\n",
              "      <td>87</td>\n",
              "      <td>90</td>\n",
              "      <td>74</td>\n",
              "      <td>76</td>\n",
              "    </tr>\n",
              "    <tr>\n",
              "      <th>21</th>\n",
              "      <td>88</td>\n",
              "      <td>89</td>\n",
              "      <td>81</td>\n",
              "      <td>70</td>\n",
              "      <td>75</td>\n",
              "    </tr>\n",
              "    <tr>\n",
              "      <th>22</th>\n",
              "      <td>75</td>\n",
              "      <td>89</td>\n",
              "      <td>79</td>\n",
              "      <td>80</td>\n",
              "      <td>81</td>\n",
              "    </tr>\n",
              "    <tr>\n",
              "      <th>23</th>\n",
              "      <td>85</td>\n",
              "      <td>77</td>\n",
              "      <td>95</td>\n",
              "      <td>89</td>\n",
              "      <td>74</td>\n",
              "    </tr>\n",
              "    <tr>\n",
              "      <th>24</th>\n",
              "      <td>81</td>\n",
              "      <td>92</td>\n",
              "      <td>93</td>\n",
              "      <td>80</td>\n",
              "      <td>84</td>\n",
              "    </tr>\n",
              "    <tr>\n",
              "      <th>25</th>\n",
              "      <td>78</td>\n",
              "      <td>73</td>\n",
              "      <td>95</td>\n",
              "      <td>89</td>\n",
              "      <td>75</td>\n",
              "    </tr>\n",
              "    <tr>\n",
              "      <th>26</th>\n",
              "      <td>93</td>\n",
              "      <td>86</td>\n",
              "      <td>90</td>\n",
              "      <td>77</td>\n",
              "      <td>75</td>\n",
              "    </tr>\n",
              "    <tr>\n",
              "      <th>27</th>\n",
              "      <td>88</td>\n",
              "      <td>87</td>\n",
              "      <td>91</td>\n",
              "      <td>88</td>\n",
              "      <td>80</td>\n",
              "    </tr>\n",
              "    <tr>\n",
              "      <th>28</th>\n",
              "      <td>84</td>\n",
              "      <td>93</td>\n",
              "      <td>78</td>\n",
              "      <td>75</td>\n",
              "      <td>80</td>\n",
              "    </tr>\n",
              "    <tr>\n",
              "      <th>29</th>\n",
              "      <td>90</td>\n",
              "      <td>95</td>\n",
              "      <td>91</td>\n",
              "      <td>78</td>\n",
              "      <td>75</td>\n",
              "    </tr>\n",
              "    <tr>\n",
              "      <th>30</th>\n",
              "      <td>91</td>\n",
              "      <td>90</td>\n",
              "      <td>88</td>\n",
              "      <td>82</td>\n",
              "      <td>70</td>\n",
              "    </tr>\n",
              "    <tr>\n",
              "      <th>31</th>\n",
              "      <td>88</td>\n",
              "      <td>84</td>\n",
              "      <td>80</td>\n",
              "      <td>72</td>\n",
              "      <td>80</td>\n",
              "    </tr>\n",
              "    <tr>\n",
              "      <th>32</th>\n",
              "      <td>82</td>\n",
              "      <td>82</td>\n",
              "      <td>95</td>\n",
              "      <td>77</td>\n",
              "      <td>90</td>\n",
              "    </tr>\n",
              "    <tr>\n",
              "      <th>33</th>\n",
              "      <td>94</td>\n",
              "      <td>82</td>\n",
              "      <td>94</td>\n",
              "      <td>81</td>\n",
              "      <td>86</td>\n",
              "    </tr>\n",
              "    <tr>\n",
              "      <th>34</th>\n",
              "      <td>83</td>\n",
              "      <td>93</td>\n",
              "      <td>90</td>\n",
              "      <td>75</td>\n",
              "      <td>70</td>\n",
              "    </tr>\n",
              "    <tr>\n",
              "      <th>35</th>\n",
              "      <td>91</td>\n",
              "      <td>72</td>\n",
              "      <td>78</td>\n",
              "      <td>78</td>\n",
              "      <td>85</td>\n",
              "    </tr>\n",
              "    <tr>\n",
              "      <th>36</th>\n",
              "      <td>76</td>\n",
              "      <td>85</td>\n",
              "      <td>89</td>\n",
              "      <td>75</td>\n",
              "      <td>80</td>\n",
              "    </tr>\n",
              "    <tr>\n",
              "      <th>37</th>\n",
              "      <td>80</td>\n",
              "      <td>90</td>\n",
              "      <td>90</td>\n",
              "      <td>87</td>\n",
              "      <td>72</td>\n",
              "    </tr>\n",
              "    <tr>\n",
              "      <th>38</th>\n",
              "      <td>76</td>\n",
              "      <td>81</td>\n",
              "      <td>90</td>\n",
              "      <td>76</td>\n",
              "      <td>90</td>\n",
              "    </tr>\n",
              "    <tr>\n",
              "      <th>39</th>\n",
              "      <td>90</td>\n",
              "      <td>90</td>\n",
              "      <td>95</td>\n",
              "      <td>81</td>\n",
              "      <td>90</td>\n",
              "    </tr>\n",
              "    <tr>\n",
              "      <th>40</th>\n",
              "      <td>88</td>\n",
              "      <td>78</td>\n",
              "      <td>81</td>\n",
              "      <td>89</td>\n",
              "      <td>63</td>\n",
              "    </tr>\n",
              "    <tr>\n",
              "      <th>41</th>\n",
              "      <td>84</td>\n",
              "      <td>83</td>\n",
              "      <td>90</td>\n",
              "      <td>82</td>\n",
              "      <td>82</td>\n",
              "    </tr>\n",
              "    <tr>\n",
              "      <th>42</th>\n",
              "      <td>70</td>\n",
              "      <td>70</td>\n",
              "      <td>70</td>\n",
              "      <td>70</td>\n",
              "      <td>70</td>\n",
              "    </tr>\n",
              "  </tbody>\n",
              "</table>\n",
              "</div>\n",
              "      <button class=\"colab-df-convert\" onclick=\"convertToInteractive('df-6f4b0cb1-0b92-42ae-8f6f-6af6129c8677')\"\n",
              "              title=\"Convert this dataframe to an interactive table.\"\n",
              "              style=\"display:none;\">\n",
              "        \n",
              "  <svg xmlns=\"http://www.w3.org/2000/svg\" height=\"24px\"viewBox=\"0 0 24 24\"\n",
              "       width=\"24px\">\n",
              "    <path d=\"M0 0h24v24H0V0z\" fill=\"none\"/>\n",
              "    <path d=\"M18.56 5.44l.94 2.06.94-2.06 2.06-.94-2.06-.94-.94-2.06-.94 2.06-2.06.94zm-11 1L8.5 8.5l.94-2.06 2.06-.94-2.06-.94L8.5 2.5l-.94 2.06-2.06.94zm10 10l.94 2.06.94-2.06 2.06-.94-2.06-.94-.94-2.06-.94 2.06-2.06.94z\"/><path d=\"M17.41 7.96l-1.37-1.37c-.4-.4-.92-.59-1.43-.59-.52 0-1.04.2-1.43.59L10.3 9.45l-7.72 7.72c-.78.78-.78 2.05 0 2.83L4 21.41c.39.39.9.59 1.41.59.51 0 1.02-.2 1.41-.59l7.78-7.78 2.81-2.81c.8-.78.8-2.07 0-2.86zM5.41 20L4 18.59l7.72-7.72 1.47 1.35L5.41 20z\"/>\n",
              "  </svg>\n",
              "      </button>\n",
              "      \n",
              "  <style>\n",
              "    .colab-df-container {\n",
              "      display:flex;\n",
              "      flex-wrap:wrap;\n",
              "      gap: 12px;\n",
              "    }\n",
              "\n",
              "    .colab-df-convert {\n",
              "      background-color: #E8F0FE;\n",
              "      border: none;\n",
              "      border-radius: 50%;\n",
              "      cursor: pointer;\n",
              "      display: none;\n",
              "      fill: #1967D2;\n",
              "      height: 32px;\n",
              "      padding: 0 0 0 0;\n",
              "      width: 32px;\n",
              "    }\n",
              "\n",
              "    .colab-df-convert:hover {\n",
              "      background-color: #E2EBFA;\n",
              "      box-shadow: 0px 1px 2px rgba(60, 64, 67, 0.3), 0px 1px 3px 1px rgba(60, 64, 67, 0.15);\n",
              "      fill: #174EA6;\n",
              "    }\n",
              "\n",
              "    [theme=dark] .colab-df-convert {\n",
              "      background-color: #3B4455;\n",
              "      fill: #D2E3FC;\n",
              "    }\n",
              "\n",
              "    [theme=dark] .colab-df-convert:hover {\n",
              "      background-color: #434B5C;\n",
              "      box-shadow: 0px 1px 3px 1px rgba(0, 0, 0, 0.15);\n",
              "      filter: drop-shadow(0px 1px 2px rgba(0, 0, 0, 0.3));\n",
              "      fill: #FFFFFF;\n",
              "    }\n",
              "  </style>\n",
              "\n",
              "      <script>\n",
              "        const buttonEl =\n",
              "          document.querySelector('#df-6f4b0cb1-0b92-42ae-8f6f-6af6129c8677 button.colab-df-convert');\n",
              "        buttonEl.style.display =\n",
              "          google.colab.kernel.accessAllowed ? 'block' : 'none';\n",
              "\n",
              "        async function convertToInteractive(key) {\n",
              "          const element = document.querySelector('#df-6f4b0cb1-0b92-42ae-8f6f-6af6129c8677');\n",
              "          const dataTable =\n",
              "            await google.colab.kernel.invokeFunction('convertToInteractive',\n",
              "                                                     [key], {});\n",
              "          if (!dataTable) return;\n",
              "\n",
              "          const docLinkHtml = 'Like what you see? Visit the ' +\n",
              "            '<a target=\"_blank\" href=https://colab.research.google.com/notebooks/data_table.ipynb>data table notebook</a>'\n",
              "            + ' to learn more about interactive tables.';\n",
              "          element.innerHTML = '';\n",
              "          dataTable['output_type'] = 'display_data';\n",
              "          await google.colab.output.renderOutput(dataTable, element);\n",
              "          const docLink = document.createElement('div');\n",
              "          docLink.innerHTML = docLinkHtml;\n",
              "          element.appendChild(docLink);\n",
              "        }\n",
              "      </script>\n",
              "    </div>\n",
              "  </div>\n",
              "  "
            ],
            "text/plain": [
              "    big_west  small_west  capital_city  big_east  small_east\n",
              "0         87          77            86        71          70\n",
              "1         75          83            90        82          76\n",
              "2         80          73            87        85          81\n",
              "3         75          82            85        89          85\n",
              "4         91          71            85        72          75\n",
              "5         89          87            96        79          75\n",
              "6         91          77            95        79          75\n",
              "7         87          84            89        85          72\n",
              "8         90          86            93        84          72\n",
              "9         94          93            91        86          75\n",
              "10        82          83            96        85          90\n",
              "11        91          94            94        76          83\n",
              "12        83          79            91        71          80\n",
              "13        86          92            85        82          85\n",
              "14        84          72            77        72          80\n",
              "15        82          86            96        78          80\n",
              "16        88          76            84        78          78\n",
              "17        89          84            87        76          86\n",
              "18        94          85            91        74          83\n",
              "19        87          93            83        77          77\n",
              "20        89          87            90        74          76\n",
              "21        88          89            81        70          75\n",
              "22        75          89            79        80          81\n",
              "23        85          77            95        89          74\n",
              "24        81          92            93        80          84\n",
              "25        78          73            95        89          75\n",
              "26        93          86            90        77          75\n",
              "27        88          87            91        88          80\n",
              "28        84          93            78        75          80\n",
              "29        90          95            91        78          75\n",
              "30        91          90            88        82          70\n",
              "31        88          84            80        72          80\n",
              "32        82          82            95        77          90\n",
              "33        94          82            94        81          86\n",
              "34        83          93            90        75          70\n",
              "35        91          72            78        78          85\n",
              "36        76          85            89        75          80\n",
              "37        80          90            90        87          72\n",
              "38        76          81            90        76          90\n",
              "39        90          90            95        81          90\n",
              "40        88          78            81        89          63\n",
              "41        84          83            90        82          82\n",
              "42        70          70            70        70          70"
            ]
          },
          "execution_count": 59,
          "metadata": {},
          "output_type": "execute_result"
        }
      ],
      "source": [
        "final_exam = pd.read_csv('final_exam.csv')\n",
        "final_exam"
      ]
    },
    {
      "cell_type": "markdown",
      "metadata": {
        "id": "I_WEb_SJfZwb"
      },
      "source": [
        "## Uji Normalitas\n",
        "Ho = data berdistribusi normal\n",
        "\n",
        "Ha = data tidak berdistribusi normal"
      ]
    },
    {
      "cell_type": "code",
      "execution_count": null,
      "metadata": {
        "colab": {
          "base_uri": "https://localhost:8080/",
          "height": 281
        },
        "id": "Q4KjSkJYeCoP",
        "outputId": "8cfc00c6-a1ec-4f35-9b74-5d294f3f04a7"
      },
      "outputs": [
        {
          "data": {
            "image/png": "[encoded data removed]",
            "text/plain": [
              "<Figure size 432x288 with 6 Axes>"
            ]
          },
          "metadata": {
            "needs_background": "light"
          },
          "output_type": "display_data"
        }
      ],
      "source": [
        "#Membuat histogram dari pandas dan matplotlib\n",
        "\n",
        "final_exam.hist()\n",
        "plt.show()"
      ]
    },
    {
      "cell_type": "markdown",
      "metadata": {
        "id": "1FdZQ7Effp19"
      },
      "source": [
        "Terlihat beberapa datanya seperti tidak normal, mari kita coba uji Kolmogorov-Smirnov untuk mengeceknya"
      ]
    },
    {
      "cell_type": "code",
      "execution_count": null,
      "metadata": {
        "colab": {
          "base_uri": "https://localhost:8080/"
        },
        "id": "VHO09uBrfnLe",
        "outputId": "36fb2fcd-162c-4b81-cf78-7a680d77b9d0"
      },
      "outputs": [
        {
          "name": "stdout",
          "output_type": "stream",
          "text": [
            "normality for  big_west = KstestResult(statistic=0.1463623852887705, pvalue=0.2875537193189711)\n",
            "normality for  small_west = KstestResult(statistic=0.09305748870693209, pvalue=0.8504695155077621)\n",
            "normality for  capital_city = KstestResult(statistic=0.1723544820281414, pvalue=0.13793715190373557)\n",
            "normality for  small_east = KstestResult(statistic=0.11522951440351409, pvalue=0.5926673369890815)\n",
            "normality for  big_east = KstestResult(statistic=0.09709346617838455, pvalue=0.8123161041508566)\n"
          ]
        }
      ],
      "source": [
        "#Check normality using Kolmogorov-Smirnov Test\n",
        "area = ['big_west', 'small_west', 'capital_city', 'small_east', 'big_east']\n",
        "for a in area:\n",
        "  z_score = stats.zscore(final_exam[a])\n",
        "  normality = stats.kstest(z_score, 'norm', )\n",
        "  print('normality for ', a, '=', normality)"
      ]
    },
    {
      "cell_type": "markdown",
      "metadata": {
        "id": "k7MknpYpgGWL"
      },
      "source": [
        "## Latihan 3\n",
        "Coba simpulkan apakah artinya data berdistribusi normal?"
      ]
    },
    {
      "cell_type": "markdown",
      "metadata": {
        "id": "QTDzfPlGhO76"
      },
      "source": [
        "## Uji Homogenitas\n",
        "\n",
        "Ho = varians semua kelompok cenderung sama (homogen)\n",
        "\n",
        "Ha = varians semua kelompok cenderung tidak sama (homogen)"
      ]
    },
    {
      "cell_type": "code",
      "execution_count": null,
      "metadata": {
        "colab": {
          "base_uri": "https://localhost:8080/"
        },
        "id": "qNaCKklFhOf0",
        "outputId": "394e5f8f-7499-470c-ca1f-f3a9b39c08dd"
      },
      "outputs": [
        {
          "data": {
            "text/plain": [
              "LeveneResult(statistic=0.5104303607286808, pvalue=0.728125042716542)"
            ]
          },
          "execution_count": 62,
          "metadata": {},
          "output_type": "execute_result"
        }
      ],
      "source": [
        "#Uji Homogenitas dengan Levene\n",
        "stats.levene(final_exam['big_west'], final_exam['small_west'], final_exam['capital_city']\n",
        "             , final_exam['small_east'], final_exam['big_east'])"
      ]
    },
    {
      "cell_type": "markdown",
      "metadata": {
        "id": "ATP-4g3jhqzL"
      },
      "source": [
        "Karena p-value > 0.05, maka Ho diterima sehingga asumsi homogenitas dari ANOVA sudah terpenuhi"
      ]
    },
    {
      "cell_type": "markdown",
      "metadata": {
        "id": "8Yw0lGoGh2ll"
      },
      "source": [
        "## Uji ANOVA (parametrik)\n",
        "\n",
        "Ho = kualitas pendidikan merata (tidak ada perbedaan kualitas pendidikan yang signifikan antar wilayah)\n",
        "\n",
        "Ha = kualitas pendidikan tidak merata (ada perbedaan kualitas pendidikan yang signifikan antar wilayah)"
      ]
    },
    {
      "cell_type": "code",
      "execution_count": null,
      "metadata": {
        "colab": {
          "base_uri": "https://localhost:8080/"
        },
        "id": "YrjIGdzlgE5S",
        "outputId": "460c805f-6a25-41f1-c7d4-c2af6be9fd76"
      },
      "outputs": [
        {
          "data": {
            "text/plain": [
              "F_onewayResult(statistic=18.48895253915249, pvalue=4.945434101915241e-13)"
            ]
          },
          "execution_count": 63,
          "metadata": {},
          "output_type": "execute_result"
        }
      ],
      "source": [
        "stats.f_oneway(final_exam['big_west'], final_exam['small_west'], final_exam['capital_city']\n",
        "             , final_exam['small_east'], final_exam['big_east'])"
      ]
    },
    {
      "cell_type": "markdown",
      "metadata": {
        "id": "frzDHvb_iFWc"
      },
      "source": [
        "Karena p-value < 0.05, maka Ho ditolak, ternyata kualitas pendidikan di negara ini belum merata. Untuk itu, kamu perlu menyelidiki wilayah dengan rata-rata terendah agar kualitas sarana pendidikan dan gurunya bisa ditingkatkan"
      ]
    },
    {
      "cell_type": "code",
      "execution_count": null,
      "metadata": {
        "colab": {
          "base_uri": "https://localhost:8080/",
          "height": 300
        },
        "id": "AktZ5K6yodKK",
        "outputId": "769fad37-4f00-431d-af8c-397672c57981"
      },
      "outputs": [
        {
          "data": {
            "text/html": [
              "\n",
              "  <div id=\"df-d9968a5c-6622-44d3-8f35-edc0bd6d7281\">\n",
              "    <div class=\"colab-df-container\">\n",
              "      <div>\n",
              "<style scoped>\n",
              "    .dataframe tbody tr th:only-of-type {\n",
              "        vertical-align: middle;\n",
              "    }\n",
              "\n",
              "    .dataframe tbody tr th {\n",
              "        vertical-align: top;\n",
              "    }\n",
              "\n",
              "    .dataframe thead th {\n",
              "        text-align: right;\n",
              "    }\n",
              "</style>\n",
              "<table border=\"1\" class=\"dataframe\">\n",
              "  <thead>\n",
              "    <tr style=\"text-align: right;\">\n",
              "      <th></th>\n",
              "      <th>big_west</th>\n",
              "      <th>small_west</th>\n",
              "      <th>capital_city</th>\n",
              "      <th>big_east</th>\n",
              "      <th>small_east</th>\n",
              "    </tr>\n",
              "  </thead>\n",
              "  <tbody>\n",
              "    <tr>\n",
              "      <th>count</th>\n",
              "      <td>43.000000</td>\n",
              "      <td>43.000000</td>\n",
              "      <td>43.000000</td>\n",
              "      <td>43.000000</td>\n",
              "      <td>43.000000</td>\n",
              "    </tr>\n",
              "    <tr>\n",
              "      <th>mean</th>\n",
              "      <td>85.325581</td>\n",
              "      <td>83.837209</td>\n",
              "      <td>88.232558</td>\n",
              "      <td>79.209302</td>\n",
              "      <td>78.627907</td>\n",
              "    </tr>\n",
              "    <tr>\n",
              "      <th>std</th>\n",
              "      <td>5.982995</td>\n",
              "      <td>7.006562</td>\n",
              "      <td>6.159921</td>\n",
              "      <td>5.667611</td>\n",
              "      <td>6.302015</td>\n",
              "    </tr>\n",
              "    <tr>\n",
              "      <th>min</th>\n",
              "      <td>70.000000</td>\n",
              "      <td>70.000000</td>\n",
              "      <td>70.000000</td>\n",
              "      <td>70.000000</td>\n",
              "      <td>63.000000</td>\n",
              "    </tr>\n",
              "    <tr>\n",
              "      <th>25%</th>\n",
              "      <td>82.000000</td>\n",
              "      <td>78.500000</td>\n",
              "      <td>85.000000</td>\n",
              "      <td>75.000000</td>\n",
              "      <td>75.000000</td>\n",
              "    </tr>\n",
              "    <tr>\n",
              "      <th>50%</th>\n",
              "      <td>87.000000</td>\n",
              "      <td>84.000000</td>\n",
              "      <td>90.000000</td>\n",
              "      <td>78.000000</td>\n",
              "      <td>80.000000</td>\n",
              "    </tr>\n",
              "    <tr>\n",
              "      <th>75%</th>\n",
              "      <td>90.000000</td>\n",
              "      <td>89.500000</td>\n",
              "      <td>93.000000</td>\n",
              "      <td>83.000000</td>\n",
              "      <td>83.000000</td>\n",
              "    </tr>\n",
              "    <tr>\n",
              "      <th>max</th>\n",
              "      <td>94.000000</td>\n",
              "      <td>95.000000</td>\n",
              "      <td>96.000000</td>\n",
              "      <td>89.000000</td>\n",
              "      <td>90.000000</td>\n",
              "    </tr>\n",
              "  </tbody>\n",
              "</table>\n",
              "</div>\n",
              "      <button class=\"colab-df-convert\" onclick=\"convertToInteractive('df-d9968a5c-6622-44d3-8f35-edc0bd6d7281')\"\n",
              "              title=\"Convert this dataframe to an interactive table.\"\n",
              "              style=\"display:none;\">\n",
              "        \n",
              "  <svg xmlns=\"http://www.w3.org/2000/svg\" height=\"24px\"viewBox=\"0 0 24 24\"\n",
              "       width=\"24px\">\n",
              "    <path d=\"M0 0h24v24H0V0z\" fill=\"none\"/>\n",
              "    <path d=\"M18.56 5.44l.94 2.06.94-2.06 2.06-.94-2.06-.94-.94-2.06-.94 2.06-2.06.94zm-11 1L8.5 8.5l.94-2.06 2.06-.94-2.06-.94L8.5 2.5l-.94 2.06-2.06.94zm10 10l.94 2.06.94-2.06 2.06-.94-2.06-.94-.94-2.06-.94 2.06-2.06.94z\"/><path d=\"M17.41 7.96l-1.37-1.37c-.4-.4-.92-.59-1.43-.59-.52 0-1.04.2-1.43.59L10.3 9.45l-7.72 7.72c-.78.78-.78 2.05 0 2.83L4 21.41c.39.39.9.59 1.41.59.51 0 1.02-.2 1.41-.59l7.78-7.78 2.81-2.81c.8-.78.8-2.07 0-2.86zM5.41 20L4 18.59l7.72-7.72 1.47 1.35L5.41 20z\"/>\n",
              "  </svg>\n",
              "      </button>\n",
              "      \n",
              "  <style>\n",
              "    .colab-df-container {\n",
              "      display:flex;\n",
              "      flex-wrap:wrap;\n",
              "      gap: 12px;\n",
              "    }\n",
              "\n",
              "    .colab-df-convert {\n",
              "      background-color: #E8F0FE;\n",
              "      border: none;\n",
              "      border-radius: 50%;\n",
              "      cursor: pointer;\n",
              "      display: none;\n",
              "      fill: #1967D2;\n",
              "      height: 32px;\n",
              "      padding: 0 0 0 0;\n",
              "      width: 32px;\n",
              "    }\n",
              "\n",
              "    .colab-df-convert:hover {\n",
              "      background-color: #E2EBFA;\n",
              "      box-shadow: 0px 1px 2px rgba(60, 64, 67, 0.3), 0px 1px 3px 1px rgba(60, 64, 67, 0.15);\n",
              "      fill: #174EA6;\n",
              "    }\n",
              "\n",
              "    [theme=dark] .colab-df-convert {\n",
              "      background-color: #3B4455;\n",
              "      fill: #D2E3FC;\n",
              "    }\n",
              "\n",
              "    [theme=dark] .colab-df-convert:hover {\n",
              "      background-color: #434B5C;\n",
              "      box-shadow: 0px 1px 3px 1px rgba(0, 0, 0, 0.15);\n",
              "      filter: drop-shadow(0px 1px 2px rgba(0, 0, 0, 0.3));\n",
              "      fill: #FFFFFF;\n",
              "    }\n",
              "  </style>\n",
              "\n",
              "      <script>\n",
              "        const buttonEl =\n",
              "          document.querySelector('#df-d9968a5c-6622-44d3-8f35-edc0bd6d7281 button.colab-df-convert');\n",
              "        buttonEl.style.display =\n",
              "          google.colab.kernel.accessAllowed ? 'block' : 'none';\n",
              "\n",
              "        async function convertToInteractive(key) {\n",
              "          const element = document.querySelector('#df-d9968a5c-6622-44d3-8f35-edc0bd6d7281');\n",
              "          const dataTable =\n",
              "            await google.colab.kernel.invokeFunction('convertToInteractive',\n",
              "                                                     [key], {});\n",
              "          if (!dataTable) return;\n",
              "\n",
              "          const docLinkHtml = 'Like what you see? Visit the ' +\n",
              "            '<a target=\"_blank\" href=https://colab.research.google.com/notebooks/data_table.ipynb>data table notebook</a>'\n",
              "            + ' to learn more about interactive tables.';\n",
              "          element.innerHTML = '';\n",
              "          dataTable['output_type'] = 'display_data';\n",
              "          await google.colab.output.renderOutput(dataTable, element);\n",
              "          const docLink = document.createElement('div');\n",
              "          docLink.innerHTML = docLinkHtml;\n",
              "          element.appendChild(docLink);\n",
              "        }\n",
              "      </script>\n",
              "    </div>\n",
              "  </div>\n",
              "  "
            ],
            "text/plain": [
              "        big_west  small_west  capital_city   big_east  small_east\n",
              "count  43.000000   43.000000     43.000000  43.000000   43.000000\n",
              "mean   85.325581   83.837209     88.232558  79.209302   78.627907\n",
              "std     5.982995    7.006562      6.159921   5.667611    6.302015\n",
              "min    70.000000   70.000000     70.000000  70.000000   63.000000\n",
              "25%    82.000000   78.500000     85.000000  75.000000   75.000000\n",
              "50%    87.000000   84.000000     90.000000  78.000000   80.000000\n",
              "75%    90.000000   89.500000     93.000000  83.000000   83.000000\n",
              "max    94.000000   95.000000     96.000000  89.000000   90.000000"
            ]
          },
          "execution_count": 77,
          "metadata": {},
          "output_type": "execute_result"
        }
      ],
      "source": [
        "final_exam.describe()"
      ]
    },
    {
      "cell_type": "markdown",
      "metadata": {
        "id": "_Pffj3lMotqN"
      },
      "source": [
        "Ternyata nilai rata-rata di ibukota jauh diatas wilayah lain, sementara kota kecil di timur mendapat nilai rata-rata terkecil. Sebagai menteri pendidikan berarti kamu harus membuat program untuk membangun sarana pendidikan yang lebih baik dan mengirim guru-guru terbaik ke kota kecil di wilayah timur."
      ]
    },
    {
      "cell_type": "markdown",
      "metadata": {
        "id": "38aB85JvtnIR"
      },
      "source": [
        "## Uji Kruskal-Wallis (nonparametrik)\n",
        "Jika datanya ternyata tidak berdistribusi normal atau tidak homogen, kamu bisa menggunakan uji Kruskal Wallis sebagai berikut"
      ]
    },
    {
      "cell_type": "code",
      "execution_count": null,
      "metadata": {
        "colab": {
          "base_uri": "https://localhost:8080/"
        },
        "id": "zhvKmM8yotBZ",
        "outputId": "dc9ed4c4-b5ba-449d-ba61-f7f9bbedf8bd"
      },
      "outputs": [
        {
          "data": {
            "text/plain": [
              "KruskalResult(statistic=57.244594069662135, pvalue=1.0992920086269013e-11)"
            ]
          },
          "execution_count": 82,
          "metadata": {},
          "output_type": "execute_result"
        }
      ],
      "source": [
        "stats.kruskal(final_exam['big_west'], final_exam['small_west'], final_exam['capital_city']\n",
        "             , final_exam['small_east'], final_exam['big_east'])"
      ]
    },
    {
      "cell_type": "markdown",
      "metadata": {
        "id": "WQWX-KrVuPMv"
      },
      "source": [
        "## Latihan 4\n",
        "\n",
        "Coba bikin kesimpulan dari hasil p-value tersebut"
      ]
    },
    {
      "cell_type": "markdown",
      "metadata": {
        "id": "vh1TEh8UvT_i"
      },
      "source": [
        "# Latihan tambahan\n",
        "\n",
        "Misalkan kamu adalah data scientist di gojek. Kamu ingin mengetahui apakah kemacetan mempengaruhi tingkat kepuasan pelanggan. Jadi kamu ingin memebandingkan nilai \"bintang\" dari customer saat dia order di jam macet dan tidak macet.\n",
        "(#hint = data dari customer yang sama)\n",
        "\n",
        "macet = [2, 3, 5, 4, 5, 4, 4, 3, 4, 3, 4, 5, 4, 5, 4, 3, 4, 3, 3, 5, 4, 3, 4, 3, 4, 3, 4, 4, 5]\n",
        "\n",
        "tidak_macet = [2, 2, 4, 5, 4, 3, 3, 3, 3, 3, 3, 4, 4, 5, 4, 3, 3, 2, 3, 4, 4, 3, 3, 3, 4, 3, 4, 3, 4]\n",
        "\n",
        "1. Buat hipotesisnya\n",
        "2. Lakukan uji asumsi normalitasnya\n",
        "3. Jika datanya normal lakukan uji parametrik, jika tidak berdistribusi normal lakukan uji nonparametrik\n",
        "4. Apa kesimpulan uji hipotesisnya?"
      ]
    },
    {
      "cell_type": "code",
      "execution_count": null,
      "metadata": {
        "id": "F6my9aKQiktS"
      },
      "outputs": [],
      "source": []
    }
  ],
  "metadata": {
    "colab": {
      "name": "Copy of Uji Hipotesis_student.ipynb",
      "provenance": []
    },
    "kernelspec": {
      "display_name": "Python 3",
      "name": "python3"
    },
    "language_info": {
      "codemirror_mode": {
        "name": "ipython",
        "version": 3
      },
      "file_extension": ".py",
      "mimetype": "text/x-python",
      "name": "python",
      "nbconvert_exporter": "python",
      "pygments_lexer": "ipython3",
      "version": "3.10.0"
    }
  },
  "nbformat": 4,
  "nbformat_minor": 0
}
